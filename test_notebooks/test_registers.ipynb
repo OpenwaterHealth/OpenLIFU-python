{
 "cells": [
  {
   "cell_type": "code",
   "execution_count": 1,
   "metadata": {},
   "outputs": [],
   "source": [
    "from pyfus.io import tx7332\n",
    "import numpy as np"
   ]
  },
  {
   "cell_type": "code",
   "execution_count": 2,
   "metadata": {},
   "outputs": [
    {
     "name": "stdout",
     "output_type": "stream",
     "text": [
      "CONTROL\n",
      "0x16:x00000000\n",
      "0x1B:x00000000\n",
      "DATA\n",
      "0x20:x07C00740\n",
      "0x21:x06C0063F\n",
      "0x22:x05C00540\n",
      "0x23:x04BF0440\n",
      "0x24:x077F0700\n",
      "0x25:x06800600\n",
      "0x26:x05800500\n",
      "0x27:x04800400\n",
      "0x28:x03BF0340\n",
      "0x29:x02C00240\n",
      "0x2A:x01C00140\n",
      "0x2B:x00C00040\n",
      "0x2C:x03800300\n",
      "0x2D:x02800200\n",
      "0x2E:x01800100\n",
      "0x2F:x00800000\n"
     ]
    }
   ],
   "source": [
    "delays = np.arange(32)*1e-6\n",
    "apodizations = np.ones(32)\n",
    "dprof = tx7332.DelayProfile(1, delays, apodizations)\n",
    "print('CONTROL')\n",
    "tx7332.print_dict(dprof.get_control_registers())\n",
    "print('DATA')\n",
    "tx7332.print_dict(dprof.get_data_registers())"
   ]
  },
  {
   "cell_type": "code",
   "execution_count": 3,
   "metadata": {},
   "outputs": [
    {
     "name": "stdout",
     "output_type": "stream",
     "text": [
      "CONTROL\n",
      "0x18:x02000003\n",
      "0x19:x00000744\n",
      "0x1E:x00000000\n",
      "0x1F:x00000000\n",
      "DATA\n",
      "0x120:xF2F2F2F2\n",
      "0x121:x38F0F052\n",
      "0x122:xF1F1F1F1\n",
      "0x123:x38F0F051\n"
     ]
    }
   ],
   "source": [
    "frequency = 150e3\n",
    "cycles = 3\n",
    "pprof = tx7332.PulseProfile(1, frequency, cycles)\n",
    "print('CONTROL')\n",
    "tx7332.print_dict(pprof.get_control_registers())\n",
    "print('DATA')\n",
    "tx7332.print_dict(pprof.get_data_registers())"
   ]
  },
  {
   "cell_type": "code",
   "execution_count": 4,
   "metadata": {},
   "outputs": [
    {
     "name": "stdout",
     "output_type": "stream",
     "text": [
      "0x0:x00000000\n",
      "0x1:x00000000\n",
      "0x6:x00000000\n",
      "0xB:x00000000\n",
      "0xC:x00000000\n",
      "0xF:x00000000\n",
      "0x14:x00000000\n",
      "0x15:x00000000\n",
      "0x16:x00000000\n",
      "0x18:x02000003\n",
      "0x19:x00000744\n",
      "0x1A:x00000000\n",
      "0x1B:x00000000\n",
      "0x1E:x00000000\n",
      "0x1F:x00000000\n",
      "0x20:x07C00740\n",
      "0x21:x06C0063F\n",
      "0x22:x05C00540\n",
      "0x23:x04BF0440\n",
      "0x24:x077F0700\n",
      "0x25:x06800600\n",
      "0x26:x05800500\n",
      "0x27:x04800400\n",
      "0x28:x03BF0340\n",
      "0x29:x02C00240\n",
      "0x2A:x01C00140\n",
      "0x2B:x00C00040\n",
      "0x2C:x03800300\n",
      "0x2D:x02800200\n",
      "0x2E:x01800100\n",
      "0x2F:x00800000\n",
      "0x120:xF2F2F2F2\n",
      "0x121:x38F0F052\n",
      "0x122:xF1F1F1F1\n",
      "0x123:x38F0F051\n"
     ]
    }
   ],
   "source": [
    "tx = tx7332.Tx7332Registers()\n",
    "tx.add_delay_profile(dprof)\n",
    "tx.add_pulse_profile(pprof)\n",
    "r = tx.get_registers(all_registers=False)\n",
    "tx7332.print_dict(r)"
   ]
  }
 ],
 "metadata": {
  "kernelspec": {
   "display_name": "Open-PyFUS (3.11)",
   "language": "python",
   "name": "env"
  },
  "language_info": {
   "codemirror_mode": {
    "name": "ipython",
    "version": 3
   },
   "file_extension": ".py",
   "mimetype": "text/x-python",
   "name": "python",
   "nbconvert_exporter": "python",
   "pygments_lexer": "ipython3",
   "version": "3.11.4"
  }
 },
 "nbformat": 4,
 "nbformat_minor": 2
}
