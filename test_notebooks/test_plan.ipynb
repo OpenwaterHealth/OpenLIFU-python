{
 "cells": [
  {
   "cell_type": "code",
   "execution_count": 1,
   "metadata": {},
   "outputs": [],
   "source": [
    "import sys\n",
    "sys.path.append(R'C:\\Users\\pjh7\\git\\k-wave-python')\n",
    "import pyfus\n",
    "from typing import List, Dict, Any, Tuple\n",
    "import logging\n",
    "import matplotlib.pyplot as plt\n",
    "import xarray as xa\n",
    "root = logging.getLogger()\n",
    "loglevel = logging.INFO\n",
    "root.setLevel(loglevel)\n",
    "handler = logging.StreamHandler(sys.stdout)\n",
    "handler.setLevel(loglevel)\n",
    "formatter = logging.Formatter('%(asctime)s - %(name)s - %(levelname)s - %(message)s')\n",
    "handler.setFormatter(formatter)\n",
    "root.addHandler(handler)\n",
    "import numpy as np\n"
   ]
  },
  {
   "cell_type": "code",
   "execution_count": 2,
   "metadata": {},
   "outputs": [
    {
     "name": "stdout",
     "output_type": "stream",
     "text": [
      "2023-11-02 09:44:53,410 - pyfus.database - INFO - Transducer IDs: ['vermon', 'vermon2']\n",
      "2023-11-02 09:44:53,412 - root - INFO - Initializing transducer array\n"
     ]
    }
   ],
   "source": [
    "\n",
    "db = pyfus.database.Database(path=R'C:/Users/pjh7/Documents/dom/')\n",
    "transducer_ids = db.get_transducer_ids()\n",
    "arr = db.load_transducer(transducer_ids[0])\n",
    "pt = pyfus.geo.Point(position=(20,0,30), units=\"mm\", radius=2)\n",
    "focal_pattern = pyfus.bf.RadialPattern(center=True, spoke_radius=5, num_spokes=5)\n",
    "sim_grid = pyfus.bf.SimulationGrid(dt=2e-7, t_end=100e-6)\n",
    "pulse = pyfus.bf.Pulse(frequency=400e3, duration=3/400e3)\n",
    "sequence = pyfus.bf.Sequence()\n",
    "bfp = pyfus.bf.BeamformingPlan()\n",
    "plan = pyfus.plan.Plan(pulse=pulse,\n",
    "                 sequence=sequence,\n",
    "                 focal_pattern=focal_pattern,\n",
    "                 sim_grid=sim_grid,\n",
    "                 bf_plan = bfp)\n",
    "pts = plan.focal_pattern.get_targets(pt)\n",
    "coords = plan.sim_grid.get_coords()\n",
    "params = plan.bf_plan.get_ref_params(coords)\n",
    "delays, apod = plan.bf_plan.beamform(arr=arr, target=pts[0], params=params)\n"
   ]
  },
  {
   "cell_type": "code",
   "execution_count": 6,
   "metadata": {},
   "outputs": [
    {
     "name": "stdout",
     "output_type": "stream",
     "text": [
      "2023-11-02 09:46:45,540 - root - INFO - Calculating grid weights\n"
     ]
    },
    {
     "name": "stdout",
     "output_type": "stream",
     "text": [
      "2023-11-02 09:46:51,943 - root - INFO - Getting binary mask\n",
      "2023-11-02 09:46:52,779 - root - INFO - Getting distributed source signal\n",
      "2023-11-02 09:46:53,611 - root - INFO - approximate size of source matrix: 22.56 G B ( float64 precision)\n",
      "2023-11-02 09:46:53,909 - root - INFO - total computation time : 1.13 s\n",
      "2023-11-02 09:46:53,910 - root - INFO - Running simulation\n",
      "2023-11-02 09:46:53,911 - root - INFO - Starting Simulation Setup\n",
      "2023-11-02 09:46:53,911 - root - INFO -   start time: 02-Nov-2023-09-46-53\n",
      "2023-11-02 09:46:53,912 - root - INFO - Running k-Wave simulation...\n",
      "2023-11-02 09:46:53,912 - root - INFO -   start time: 02-Nov-2023-09-46-53\n",
      "2023-11-02 09:46:53,913 - root - INFO -   reference sound speed: 1500.0 m/s\n",
      "2023-11-02 09:46:53,913 - root - INFO -   reference sound speed: 1500.0 m/s\n",
      "2023-11-02 09:46:53,921 - root - INFO -   dt: 200ns, t_end: 99.8us, time steps: 500\n",
      "2023-11-02 09:46:53,922 - root - INFO -   input grid size: 61 by 61 by 65 grid points (61.0 by 61.0 by 65.0 mm)\n",
      "2023-11-02 09:46:53,922 - root - INFO -   maximum supported frequency: 737.704918kHz by 737.704918kHz by 738.461538kHz\n",
      "2023-11-02 09:46:53,923 - root - INFO -   expanding computational grid...\n",
      "2023-11-02 09:46:53,938 - root - INFO -   computational grid size:81 by 81 by 125 grid points\n",
      "2023-11-02 09:46:53,952 - root - INFO - Preparing derivative and PML operators\n",
      "2023-11-02 09:46:53,953 - root - INFO - Using k-space operators\n",
      "2023-11-02 09:46:53,987 - root - INFO - Saving data to disk\n",
      "2023-11-02 09:46:53,988 - root - INFO -   precomputation completed in 0.0761034s\n",
      "2023-11-02 09:46:53,988 - root - INFO -   saving input files to disk...\n",
      "2023-11-02 09:46:53,989 - root - INFO -   saving C:\\Users\\pjh7\\AppData\\Local\\Temp\\02-Nov-2023-09-46-53_kwave_output.h5...\n",
      "2023-11-02 09:46:54,200 - root - WARNING - DeprecationWarning: Attributes will soon be typed when saved and not saved \n",
      "2023-11-02 09:46:54,205 - root - INFO -   completed in 0.2171788s\n",
      "2023-11-02 09:46:54,205 - root - INFO - Data saved to disk, Retracting transducer grid size\n",
      "2023-11-02 09:46:54,206 - root - INFO - Launching simulation\n"
     ]
    }
   ],
   "source": [
    "ds, output = pyfus.sim.run_simulation(arr=arr, \n",
    "               params=params, \n",
    "               delays=delays,\n",
    "               apod= apod,\n",
    "               freq = pulse.frequency,\n",
    "               cycles = np.max([np.round(pulse.duration * pulse.frequency), 20]),\n",
    "               dt=plan.sim_grid.dt,\n",
    "               t_end=plan.sim_grid.t_end,\n",
    "               amplitude = 1,\n",
    "               db = db,\n",
    "               save_gridweights=False)"
   ]
  },
  {
   "cell_type": "code",
   "execution_count": 14,
   "metadata": {},
   "outputs": [
    {
     "name": "stdout",
     "output_type": "stream",
     "text": [
      "[1062.1932 1073.082  1052.9266 ... 1668.4307 1591.6044 1461.3376]\n",
      "[-1047.0564 -1070.8649 -1039.9152 ... -1653.6028 -1505.7198 -1295.1523]\n",
      "0.062456325\n",
      "<xarray.DataArray 'p_min' ()>\n",
      "array(33680.812, dtype=float32)\n",
      "<xarray.DataArray ()>\n",
      "array(0.03781324, dtype=float32)\n",
      "0.0376790547\n",
      "<xarray.DataArray ()>\n",
      "array(33.63635673)\n",
      "33528.758\n"
     ]
    }
   ],
   "source": [
    "print(np.array(output['p']).max(axis=0))\n",
    "print(np.array(output['p']).min(axis=0))\n",
    "print(((output['p_max']+output['p_min'])/(output['p_max'].max())).max())\n",
    "refmat = params.attrs['ref_material']\n",
    "sz = list(params.coords.sizes.values())\n",
    "ippa = (np.max(np.array(output['p'])**2, axis=0)/(2*refmat.sound_speed*refmat.density)).reshape(sz)\n",
    "p_len = np.max([np.round(pulse.duration * pulse.frequency), 20])/pulse.frequency\n",
    "#ippa = ippa  / (p_len / (output['Nt'] * output['dt']))\n",
    "ippa_wcm2 = xa.DataArray(ippa*1e-4, coords=params.coords)\n",
    "print(ds['p_min'].sel(ax=slice(10,None)).max())\n",
    "print(ippa_wcm2.sel(ax=slice(10,None)).max())\n",
    "print((33621**2)/(2*refmat.sound_speed*refmat.density)*1e-4)\n",
    "output['Nt']*output['dt']\n",
    "ppp = output['p_max'].max()\n",
    "scale = 1e6/ppp\n",
    "print(ippa_wcm2.max()*(scale**2))\n",
    "print(ppp)\n"
   ]
  },
  {
   "cell_type": "code",
   "execution_count": 32,
   "metadata": {},
   "outputs": [
    {
     "ename": "AttributeError",
     "evalue": "'Plan' object has no attribute 'to_dict'",
     "output_type": "error",
     "traceback": [
      "\u001b[1;31m---------------------------------------------------------------------------\u001b[0m",
      "\u001b[1;31mAttributeError\u001b[0m                            Traceback (most recent call last)",
      "\u001b[1;32mh:\\My Drive\\scripts\\kwave_python\\test_plan.ipynb Cell 5\u001b[0m line \u001b[0;36m1\n\u001b[1;32m----> <a href='vscode-notebook-cell:/h%3A/My%20Drive/scripts/kwave_python/test_plan.ipynb#X25sZmlsZQ%3D%3D?line=0'>1</a>\u001b[0m plan\u001b[39m.\u001b[39;49mto_dict()\n",
      "\u001b[1;31mAttributeError\u001b[0m: 'Plan' object has no attribute 'to_dict'"
     ]
    }
   ],
   "source": [
    "plan.to_dict()"
   ]
  },
  {
   "cell_type": "code",
   "execution_count": 30,
   "metadata": {},
   "outputs": [
    {
     "name": "stdout",
     "output_type": "stream",
     "text": [
      "pnp=10682.751953125\n",
      "prms=7553.8463477885225\n",
      "i_rms=38.04039643066533\n",
      "t_pulse=50.0\n",
      "i_yavg=33.284516701466096\n",
      "i_pk=38.04039643066533\n",
      "i_10max=35.460374882324565\n"
     ]
    },
    {
     "data": {
      "image/png": "[encoded data removed]",
      "text/plain": [
       "<Figure size 640x480 with 1 Axes>"
      ]
     },
     "metadata": {},
     "output_type": "display_data"
    }
   ],
   "source": [
    "y = output['p'].reshape([-1, 61, 61, 65])[:,20,30,50]\n",
    "t = output['dt']*np.arange(output['Nt'])*1e6\n",
    "plt.plot(t,y)\n",
    "pnp = -1*y.min()\n",
    "print(f'{pnp=}')\n",
    "prms = pnp/np.sqrt(2)\n",
    "print(f'{prms=}')\n",
    "i_rms = prms**2/(refmat.sound_speed*refmat.density)\n",
    "print(f'{i_rms=}')\n",
    "t_pulse = np.max([np.round(pulse.duration * pulse.frequency), 20])/pulse.frequency*1e6\n",
    "print(f'{t_pulse=}')\n",
    "i_y = y**2/(refmat.sound_speed*refmat.density)\n",
    "plt.plot(t,i_y*1e3)\n",
    "i_yavg = np.sum(i_y)/(len(t)*t_pulse/t[-1])\n",
    "print(f'{i_yavg=}')\n",
    "i_pk = pnp**2/(2*refmat.sound_speed*refmat.density)\n",
    "print(f'{i_pk=}')\n",
    "k_10 = np.ones(int(10/pulse.frequency/output['dt']))\n",
    "k_10 = k_10/np.sum(k_10)\n",
    "i_10 = np.convolve(i_y, k_10, mode='same')\n",
    "plt.plot(t,i_10*1e3)\n",
    "i_10max = np.max(i_10)\n",
    "print(f'{i_10max=}')\n",
    "\n"
   ]
  },
  {
   "cell_type": "code",
   "execution_count": null,
   "metadata": {},
   "outputs": [],
   "source": [
    "import nibabel as nb\n",
    "p_max = output['p_min'].data\n",
    "coords = output.coords\n",
    "affine = np.eye(3) * np.array([float(np.diff(coords[x][:2])) for x in coords])\n",
    "origin = np.array([float(coords[x][0]) for x in coords]).reshape(3,1)\n",
    "affine = np.concatenate([np.concatenate([affine, origin], axis=1),np.array([0,0,0,1]).reshape(1,4)], axis=0)\n",
    "nb.Nifti1Image(p_max, affine).to_filename(\"p_max.nii.gz\")"
   ]
  },
  {
   "cell_type": "code",
   "execution_count": null,
   "metadata": {},
   "outputs": [],
   "source": [
    "def get_max_cycle_offset(sim_grid, delays):\n",
    "    zmin = 10\n",
    "    coords = plan.sim_grid.get_coords(units=\"mm\")\n",
    "    cvals = [coords['lat'], coords['ele'], coords['ax'].sel(ax=slice(zmin, None))]\n",
    "    ndg = np.meshgrid(*cvals)\n",
    "    dists = [np.sqrt((ndg[0]-pos[0])**2 + (ndg[1]-pos[1])**2 + (ndg[2]-pos[2])**2) for pos in arr.get_positions(units=\"mm\")]\n",
    "    tof = [dist/1500e3 + delays[i] for i, dist in enumerate(dists)]\n",
    "    dtof = np.array(tof).max(axis=0) - np.array(tof).min(axis=0)\n",
    "    max_cycle_offset = dtof.max()*pulse.frequency\n",
    "    return max_cycle_offset\n"
   ]
  },
  {
   "cell_type": "code",
   "execution_count": null,
   "metadata": {},
   "outputs": [],
   "source": [
    "import vtk\n",
    "arr_actor = arr.get_actor(units=\"mm\")\n",
    "renderWindow = vtk.vtkRenderWindow()\n",
    "renderer = vtk.vtkRenderer()\n",
    "renderWindow.AddRenderer(renderer)\n",
    "renderWindowInteractor = vtk.vtkRenderWindowInteractor()\n",
    "renderWindowInteractor.SetRenderWindow(renderWindow)\n",
    "renderer.AddActor(arr_actor)\n",
    "for pti in pts:\n",
    "    pt_actor = pti.get_actor()\n",
    "    renderer.AddActor(pt_actor)\n",
    "renderWindow.Render()\n",
    "renderWindowInteractor.Start()"
   ]
  },
  {
   "cell_type": "code",
   "execution_count": null,
   "metadata": {},
   "outputs": [],
   "source": [
    "sys.path.append(R'C:\\Users\\pjh7\\git\\k-wave-python')\n",
    "import kwave\n",
    "import kwave.data\n",
    "from kwave.kgrid import kWaveGrid\n",
    "from kwave.kmedium import kWaveMedium\n",
    "from kwave.options.simulation_options import SimulationOptions\n",
    "from kwave.ksensor import kSensor\n",
    "from kwave.ksource import kSource\n",
    "from kwave.kspaceFirstOrder3D import kspaceFirstOrder3D\n",
    "from kwave.options.simulation_execution_options import SimulationExecutionOptions\n",
    "from kwave.utils.kwave_array import kWaveArray\n",
    "from kwave.utils.plot import voxel_plot\n",
    "from kwave.utils.signals import tone_burst\n",
    "from crc import Crc32, Calculator\n",
    "import json\n",
    "import h5py\n",
    "\n",
    "def get_kgrid(sim_grid: pyfus.bf.SimulationGrid):\n",
    "    sz =sim_grid.get_size()\n",
    "    kgrid = kWaveGrid(sz, [sim_grid.get_spacing(units=\"m\")]*3)\n",
    "    if sim_grid.dt == 0 or sim_grid.t_end == 0:\n",
    "        kgrid.makeTime(sim_grid.c0)\n",
    "    else:\n",
    "        Nt = round(sim_grid.t_end / sim_grid.dt)\n",
    "        kgrid.setTime(Nt, sim_grid.dt)\n",
    "    return kgrid\n",
    "\n",
    "kgrid = get_kgrid(plan.sim_grid)\n"
   ]
  },
  {
   "cell_type": "code",
   "execution_count": null,
   "metadata": {},
   "outputs": [],
   "source": [
    "\n",
    "def get_karray(arr: pyfus.xdc.Transducer, \n",
    "               bli_tolerance: float = 0.5,\n",
    "               upsampling_rate: int = 5,\n",
    "               translation: List[float] = [0.,0.,0.],\n",
    "               rotation: List[float] = [0.,0.,0.]):\n",
    "    karray = kWaveArray(bli_tolerance=bli_tolerance, upsampling_rate=upsampling_rate)\n",
    "    for el in arr.elements:\n",
    "        ele_pos = list(el.get_position(units=\"m\"))\n",
    "        ele_w, ele_l = el.get_size(units=\"m\")\n",
    "        ele_angle = list(el.get_angle(units=\"deg\"))\n",
    "        karray.add_rect_element(ele_pos, ele_w, ele_l, ele_angle)\n",
    "    translation = kwave.data.Vector(translation)\n",
    "    rotation = kwave.data.Vector(rotation)\n",
    "    karray.set_array_position(translation, rotation)\n",
    "    return karray\n",
    "\n",
    "karray = get_karray(arr)"
   ]
  },
  {
   "cell_type": "code",
   "execution_count": null,
   "metadata": {},
   "outputs": [],
   "source": [
    "\n",
    "def get_medium(params: xa.Dataset):\n",
    "    return kWaveMedium(sound_speed=params['sound_speed'].attrs['ref_value'], \n",
    "                       density=params['density'].attrs['ref_value'])\n",
    "\n",
    "medium = get_medium(params)\n"
   ]
  },
  {
   "cell_type": "code",
   "execution_count": null,
   "metadata": {},
   "outputs": [],
   "source": [
    "\n",
    "def get_sensor(kgrid, record=['p_max','p_min']):\n",
    "    sensor_mask = np.ones([kgrid.Nx, kgrid.Ny, kgrid.Nz])\n",
    "    sensor = kSensor(sensor_mask, record=record)\n",
    "    return sensor\n",
    "\n",
    "sensor = get_sensor(kgrid)\n"
   ]
  },
  {
   "cell_type": "code",
   "execution_count": null,
   "metadata": {},
   "outputs": [],
   "source": [
    "kgrid.Nx"
   ]
  },
  {
   "cell_type": "code",
   "execution_count": null,
   "metadata": {},
   "outputs": [],
   "source": [
    "\n",
    "def hash_array_kgrid(kgrid, karray):\n",
    "    c = Calculator(Crc32.CRC32)\n",
    "    d = {'x':kgrid.x_vec.tolist(),\n",
    "        'y':kgrid.y_vec.tolist(),\n",
    "        'z':kgrid.z_vec.tolist(),\n",
    "        'transform': karray.array_transformation.tolist(),\n",
    "        'BLI_tolerance': karray.bli_tolerance,\n",
    "        'upsampling_rate': karray.upsampling_rate}\n",
    "    check = c.checksum(bytes(json.dumps(d), 'utf-8'))\n",
    "    return f'{check:x}'    \n",
    "\n",
    "h = hash_array_kgrid(kgrid, karray)\n",
    "available_hashes = db.get_gridweight_hashes(arr.id)\n",
    "if h in available_hashes:\n",
    "    grid_weights = db.load_gridweights(arr.id, h)\n",
    "else:\n",
    "    logging.info(\"Calculating grid weights\")\n",
    "    grid_weights = np.array([karray.get_element_grid_weights(kgrid, i) for i in range(karray.number_elements)])\n",
    "    logging.info(\"Saving grid weights\")\n",
    "    db.add_gridweights(arr.id, h, grid_weights)\n",
    "\n",
    "def get_source(kgrid, karray, pulse, delays, apod, source_amp=1, max_cycles=20, grid_weights=None):\n",
    "    ncycles = np.min([np.ceil(pulse.duration * pulse.frequency), max_cycles])\n",
    "    source_sig = source_amp * tone_burst(1 / kgrid.dt, pulse.frequency, ncycles, envelope='Rectangular', \n",
    "                                         signal_offset=np.round(delays / kgrid.dt).astype(int))\n",
    "    source = kSource()\n",
    "    logging.info(\"Getting binary mask\")\n",
    "    source.p_mask = karray.get_array_binary_mask(kgrid)\n",
    "    logging.info(\"Getting distributed source signal\")\n",
    "    source.p = karray.get_distributed_source_signal(kgrid, source_sig, grid_weights=grid_weights)\n",
    "    return source\n",
    "\n",
    "source = get_source(kgrid, karray, pulse, delays, apod, grid_weights=grid_weights)"
   ]
  },
  {
   "cell_type": "code",
   "execution_count": null,
   "metadata": {},
   "outputs": [],
   "source": [
    "# SIMULATION\n",
    "simulation_options = SimulationOptions(\n",
    "    pml_auto=True,\n",
    "    pml_inside=False,\n",
    "    save_to_disk=True,\n",
    "    data_cast='single'\n",
    ")\n",
    "execution_options = SimulationExecutionOptions(is_gpu_simulation=True)"
   ]
  },
  {
   "cell_type": "code",
   "execution_count": null,
   "metadata": {},
   "outputs": [],
   "source": [
    "sensor_data = kspaceFirstOrder3D(kgrid=kgrid, medium=medium, source=source, sensor=sensor,\n",
    "                                  simulation_options=simulation_options, execution_options=execution_options)\n",
    "p_max = np.reshape(sensor_data['p_max'], sim_grid.get_size(), order='F')"
   ]
  },
  {
   "cell_type": "code",
   "execution_count": null,
   "metadata": {},
   "outputs": [],
   "source": [
    "import nibabel as nb\n",
    "nb.Nifti1Image(p_max, np.eye(4)).to_filename(\"p_max.nii.gz\")"
   ]
  },
  {
   "cell_type": "code",
   "execution_count": null,
   "metadata": {},
   "outputs": [],
   "source": [
    "focal_pattern.__dict__"
   ]
  }
 ],
 "metadata": {
  "kernelspec": {
   "display_name": "Open-PyFUS (3.11)",
   "language": "python",
   "name": "env"
  },
  "language_info": {
   "codemirror_mode": {
    "name": "ipython",
    "version": 3
   },
   "file_extension": ".py",
   "mimetype": "text/x-python",
   "name": "python",
   "nbconvert_exporter": "python",
   "pygments_lexer": "ipython3",
   "version": "3.11.4"
  }
 },
 "nbformat": 4,
 "nbformat_minor": 2
}
