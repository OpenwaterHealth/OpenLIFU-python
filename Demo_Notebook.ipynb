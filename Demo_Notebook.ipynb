{
 "cells": [
  {
   "cell_type": "code",
   "execution_count": 1,
   "metadata": {},
   "outputs": [
    {
     "name": "stderr",
     "output_type": "stream",
     "text": [
      "DEBUG:h5py._conv:Creating converter from 7 to 5\n",
      "DEBUG:h5py._conv:Creating converter from 5 to 7\n",
      "DEBUG:h5py._conv:Creating converter from 7 to 5\n",
      "DEBUG:h5py._conv:Creating converter from 5 to 7\n",
      "DEBUG:matplotlib:matplotlib data path: c:\\Users\\gvigelet\\.conda\\envs\\pyfus\\lib\\site-packages\\matplotlib\\mpl-data\n",
      "DEBUG:matplotlib:CONFIGDIR=C:\\Users\\gvigelet\\.matplotlib\n",
      "DEBUG:matplotlib:interactive is False\n",
      "DEBUG:matplotlib:platform is win32\n",
      "DEBUG:matplotlib:CACHEDIR=C:\\Users\\gvigelet\\.matplotlib\n",
      "DEBUG:matplotlib.font_manager:Using fontManager instance from C:\\Users\\gvigelet\\.matplotlib\\fontlist-v330.json\n"
     ]
    }
   ],
   "source": [
    "# Import the necessary modules\n",
    "from ow_ustx import *\n",
    "import json\n",
    "import time\n",
    "from pyfus.io.ustx import PulseProfile, DelayProfile, TxModule, TxArray, Tx7332Registers, print_regs\n",
    "from pyfus.xdc import Transducer, Element\n",
    "import numpy as np\n",
    "import sys\n",
    "from ow_ustx import *\n",
    "import json\n",
    "import time"
   ]
  },
  {
   "cell_type": "code",
   "execution_count": 2,
   "metadata": {},
   "outputs": [
    {
     "name": "stderr",
     "output_type": "stream",
     "text": [
      "INFO:UART:Connecting to COM port at COM16 speed 921600\n"
     ]
    }
   ],
   "source": [
    "CTRL_BOARD = True\n",
    "serial_obj = None\n",
    "\n",
    "if CTRL_BOARD:\n",
    "    vid = 1155  # Example VID for demonstration\n",
    "    pid = 22446  # Example PID for demonstration\n",
    "    \n",
    "    com_port = list_vcp_with_vid_pid(vid, pid)\n",
    "    if com_port is None:\n",
    "        print(\"No device found\")\n",
    "    else:\n",
    "        print(\"Device found at port: \", com_port)\n",
    "        # Select communication port\n",
    "        serial_obj = UART(com_port, timeout=5)\n",
    "else:\n",
    "    serial_obj = UART('COM16', timeout=5)"
   ]
  },
  {
   "cell_type": "code",
   "execution_count": 4,
   "metadata": {},
   "outputs": [
    {
     "name": "stdout",
     "output_type": "stream",
     "text": [
      "USTx controller initialized\n",
      "Received From Controller Packet ID:  1\n"
     ]
    }
   ],
   "source": [
    "# Initialize the USTx controller object\n",
    "ustx_ctrl = CTRL_IF(serial_obj)\n",
    "\n",
    "print(\"USTx controller initialized\")\n",
    "r = ustx_ctrl.ping()  # Ping the device\n",
    "try:\n",
    "    parsedResp = UartPacket(buffer=r)\n",
    "    print(\"Received From Controller Packet ID: \", parsedResp.id)\n",
    "except ValueError as e:\n",
    "    print(\"{0}\".format(e))\n",
    "    sys.exit(0)"
   ]
  },
  {
   "cell_type": "code",
   "execution_count": 5,
   "metadata": {},
   "outputs": [
    {
     "name": "stdout",
     "output_type": "stream",
     "text": [
      "Enumerate I2C Devices\n",
      "Enumerate TX7332 Chips on AFE devices\n",
      "Enumerate TX7332 Chips on AFE device\n",
      "Status Packet:\n",
      "  ID: 3\n",
      "  Command: 0x31\n",
      "  Status: 0x0\n",
      "  Reserved: 0x2\n",
      "  Data Length: 8\n",
      "  CRC: 0x7dc7\n"
     ]
    }
   ],
   "source": [
    "# enumerate devices\n",
    "print(\"Enumerate I2C Devices\")\n",
    "ustx_ctrl.enum_i2c_devices()\n",
    "print(\"Enumerate TX7332 Chips on AFE devices\")\n",
    "for afe_device in ustx_ctrl.afe_devices:\n",
    "    print(\"Enumerate TX7332 Chips on AFE device\")\n",
    "    rUartPacket = afe_device.enum_tx7332_devices()"
   ]
  },
  {
   "cell_type": "code",
   "execution_count": 6,
   "metadata": {},
   "outputs": [
    {
     "name": "stderr",
     "output_type": "stream",
     "text": [
      "INFO:root:Initializing transducer array\n"
     ]
    },
    {
     "name": "stdout",
     "output_type": "stream",
     "text": [
      "I2C: 0x34\n",
      "MODULE 0\n",
      "0x0:x00000000\n",
      "0x1:x00000000\n",
      "0x6:x00000000\n",
      "0xB:x00000000\n",
      "0xC:x00000000\n",
      "0xF:x00000000\n",
      "0x14:x00000000\n",
      "0x15:x00000000\n",
      "0x16:x00000000\n",
      "0x18:x02000003\n",
      "0x19:x04E20F40\n",
      "0x1A:x00000000\n",
      "0x1B:x00000000\n",
      "0x1E:x00000000\n",
      "0x1F:x00000000\n",
      "0x20[+0]:x00610000\n",
      "0x20[+1]:x009E003A\n",
      "0x20[+2]:x0075003A\n",
      "0x20[+3]:x00B20075\n",
      "0x20[+4]:x007500B2\n",
      "0x20[+5]:x003A0075\n",
      "0x20[+6]:x003A009E\n",
      "0x20[+7]:x00000061\n",
      "0x20[+8]:x00C70061\n",
      "0x20[+9]:x00DC0075\n",
      "0x20[+10]:x00DC009E\n",
      "0x20[+11]:x00F100B2\n",
      "0x20[+12]:x007500F1\n",
      "0x20[+13]:x009E00DC\n",
      "0x20[+14]:x00B200DC\n",
      "0x20[+15]:x006100C7\n",
      "0x120[+0]:xF1D092F2\n",
      "0x120[+1]:x0007D091\n",
      "MODULE 1\n",
      "0x0:x00000000\n",
      "0x1:x00000000\n",
      "0x6:x00000000\n",
      "0xB:x00000000\n",
      "0xC:x00000000\n",
      "0xF:x00000000\n",
      "0x14:x00000000\n",
      "0x15:x00000000\n",
      "0x16:x00000000\n",
      "0x18:x02000003\n",
      "0x19:x04E20F40\n",
      "0x1A:x00000000\n",
      "0x1B:x00000000\n",
      "0x1E:x00000000\n",
      "0x1F:x00000000\n",
      "0x20[+0]:x007500F1\n",
      "0x20[+1]:x009E00DC\n",
      "0x20[+2]:x00B200DC\n",
      "0x20[+3]:x006100C7\n",
      "0x20[+4]:x00C70061\n",
      "0x20[+5]:x00DC00B2\n",
      "0x20[+6]:x00DC009E\n",
      "0x20[+7]:x00F10075\n",
      "0x20[+8]:x007500B2\n",
      "0x20[+9]:x003A0075\n",
      "0x20[+10]:x003A009E\n",
      "0x20[+11]:x00000061\n",
      "0x20[+12]:x00610000\n",
      "0x20[+13]:x009E003A\n",
      "0x20[+14]:x0075003A\n",
      "0x20[+15]:x00B20075\n",
      "0x120[+0]:xF1D092F2\n",
      "0x120[+1]:x0007D091\n",
      "\n"
     ]
    }
   ],
   "source": [
    "# Set the focus and pulse profile\n",
    "focus = np.array([0, 0, 50]) #set focus #left, front, down \n",
    "pulse_profile = PulseProfile(profile=1, frequency=400e3, cycles=2000)\n",
    "first_afe = ustx_ctrl.afe_devices[0]\n",
    "afe_dict = {first_afe.i2c_addr: first_afe}\n",
    "# afe_dict = {afe.i2c_addr:afe for afe in ustx_ctrl.afe_devices}\n",
    "# Load Mapping file\n",
    "arr = Transducer.from_file(R\"M3.json\")\n",
    "arr.elements = np.array(arr.elements)[np.argsort([el.pin for el in arr.elements])].tolist()\n",
    "distances = np.sqrt(np.sum((focus - arr.get_positions(units=\"mm\"))**2, 1))\n",
    "tof = distances*1e-3 / 1500\n",
    "delays = tof.max() - tof\n",
    "i2c_addresses = list(afe_dict.keys())\n",
    "i2c_addresses = i2c_addresses[:int(arr.numelements()/64)]\n",
    "txa = TxArray(i2c_addresses=i2c_addresses)\n",
    "array_delay_profile = DelayProfile(1, delays.tolist())\n",
    "txa.add_delay_profile(array_delay_profile)\n",
    "txa.add_pulse_profile(pulse_profile)\n",
    "regs = txa.get_registers(profiles=\"configured\", pack=True) \n",
    "for addr, rm in regs.items():\n",
    "    print(f'I2C: 0x{addr:02x}')\n",
    "    for i, r in enumerate(rm):\n",
    "        print(f'MODULE {i}')\n",
    "        print_regs(r)\n",
    "    print('')  #calculate register state for 7332s, settings for board (bits, purpose), #change focus!!"
   ]
  },
  {
   "cell_type": "code",
   "execution_count": 7,
   "metadata": {},
   "outputs": [
    {
     "name": "stdout",
     "output_type": "stream",
     "text": [
      "0x34[0] Writing value 0x0 to register 0x0\n",
      "0x34[0] Writing value 0x0 to register 0x1\n",
      "0x34[0] Writing value 0x0 to register 0x6\n",
      "0x34[0] Writing value 0x0 to register 0xB\n",
      "0x34[0] Writing value 0x0 to register 0xC\n",
      "0x34[0] Writing value 0x0 to register 0xF\n",
      "0x34[0] Writing value 0x0 to register 0x14\n",
      "0x34[0] Writing value 0x0 to register 0x15\n",
      "0x34[0] Writing value 0x0 to register 0x16\n",
      "0x34[0] Writing value 0x2000003 to register 0x18\n",
      "0x34[0] Writing value 0x4E20F40 to register 0x19\n",
      "0x34[0] Writing value 0x0 to register 0x1F\n",
      "0x34[0] Writing value 0x0 to register 0x1E\n",
      "0x34[0] Writing value 0x0 to register 0x1A\n",
      "0x34[0] Writing value 0x0 to register 0x1B\n",
      "0x34[0] Writing 16-value block starting at register 0x20\n",
      "0x34[0] Writing 2-value block starting at register 0x120\n",
      "0x34[1] Writing value 0x0 to register 0x0\n",
      "0x34[1] Writing value 0x0 to register 0x1\n",
      "0x34[1] Writing value 0x0 to register 0x6\n",
      "0x34[1] Writing value 0x0 to register 0xB\n",
      "0x34[1] Writing value 0x0 to register 0xC\n",
      "0x34[1] Writing value 0x0 to register 0xF\n",
      "0x34[1] Writing value 0x0 to register 0x14\n",
      "0x34[1] Writing value 0x0 to register 0x15\n",
      "0x34[1] Writing value 0x0 to register 0x16\n",
      "0x34[1] Writing value 0x2000003 to register 0x18\n",
      "0x34[1] Writing value 0x4E20F40 to register 0x19\n",
      "0x34[1] Writing value 0x0 to register 0x1F\n",
      "0x34[1] Writing value 0x0 to register 0x1E\n",
      "0x34[1] Writing value 0x0 to register 0x1A\n",
      "0x34[1] Writing value 0x0 to register 0x1B\n",
      "0x34[1] Writing 16-value block starting at register 0x20\n",
      "0x34[1] Writing 2-value block starting at register 0x120\n"
     ]
    }
   ],
   "source": [
    "# Write Registers to Device #series of loops for programming tx chips \n",
    "for i2c_addr, module_regs in regs.items():\n",
    "    afe = afe_dict[i2c_addr] \n",
    "    for i in range(len(module_regs)):\n",
    "        device = afe.tx_devices[i]\n",
    "        r = module_regs[i]\n",
    "        device.write_register(0,1) #resetting the device\n",
    "        for address, value in r.items():\n",
    "            if isinstance(value, list):\n",
    "                print(f\"0x{i2c_addr:x}[{i}] Writing {len(value)}-value block starting at register 0x{address:X}\")\n",
    "                device.write_block(address, value)\n",
    "            else:\n",
    "                print(f\"0x{i2c_addr:x}[{i}] Writing value 0x{value:X} to register 0x{address:X}\")\n",
    "                device.write_register(address, value)\n",
    "            time.sleep(0.1)"
   ]
  },
  {
   "cell_type": "code",
   "execution_count": 8,
   "metadata": {},
   "outputs": [
    {
     "name": "stdout",
     "output_type": "stream",
     "text": [
      "{\n",
      "    \"TriggerFrequencyHz\": 0,\n",
      "    \"TriggerMode\": \"UNKNOWN\",\n",
      "    \"TriggerPulseCount\": 0,\n",
      "    \"TriggerPulseWidthUsec\": 0,\n",
      "    \"TriggerStatus\": \"NOT CONFIGURED\"\n",
      "}\n"
     ]
    }
   ],
   "source": [
    "# get trigger configuration\n",
    "trigger_config = ustx_ctrl.get_trigger()\n",
    "print(json.dumps(trigger_config, indent=4))\n"
   ]
  },
  {
   "cell_type": "code",
   "execution_count": 9,
   "metadata": {},
   "outputs": [
    {
     "name": "stdout",
     "output_type": "stream",
     "text": [
      "Received Data (Hex): AA 00 01 E3 13 00 00 00 00 26 0F DD\n"
     ]
    }
   ],
   "source": [
    "# set trigger configuration\n",
    "trigger_config = {\n",
    "    \"TriggerFrequencyHz\": 50,\n",
    "    \"TriggerMode\": 1,\n",
    "    \"TriggerPulseCount\": 0,\n",
    "    \"TriggerPulseWidthUsec\": 250\n",
    "}\n",
    "r = ustx_ctrl.set_trigger(data=trigger_config)\n",
    "format_and_print_hex(r)"
   ]
  },
  {
   "cell_type": "code",
   "execution_count": 12,
   "metadata": {},
   "outputs": [
    {
     "name": "stdout",
     "output_type": "stream",
     "text": [
      "Turn Trigger On\n"
     ]
    }
   ],
   "source": [
    "# start trigger pulse\n",
    "print(\"Turn Trigger On\")\n",
    "ustx_ctrl.start_trigger()"
   ]
  },
  {
   "cell_type": "code",
   "execution_count": 13,
   "metadata": {},
   "outputs": [
    {
     "name": "stdout",
     "output_type": "stream",
     "text": [
      "Turn Trigger Off\n"
     ]
    }
   ],
   "source": [
    "# stop trigger pulse\n",
    "print(\"Turn Trigger Off\")\n",
    "ustx_ctrl.stop_trigger()"
   ]
  },
  {
   "cell_type": "code",
   "execution_count": null,
   "metadata": {},
   "outputs": [],
   "source": [
    "# close teh communication port\n",
    "ustx_ctrl.uart.close()"
   ]
  }
 ],
 "metadata": {
  "kernelspec": {
   "display_name": "pyfus",
   "language": "python",
   "name": "python3"
  },
  "language_info": {
   "codemirror_mode": {
    "name": "ipython",
    "version": 3
   },
   "file_extension": ".py",
   "mimetype": "text/x-python",
   "name": "python",
   "nbconvert_exporter": "python",
   "pygments_lexer": "ipython3",
   "version": "3.10.14"
  }
 },
 "nbformat": 4,
 "nbformat_minor": 2
}
