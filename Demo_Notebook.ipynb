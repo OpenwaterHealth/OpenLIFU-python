{
 "cells": [
  {
   "cell_type": "code",
   "execution_count": 1,
   "metadata": {},
   "outputs": [],
   "source": [
    "# Import the necessary modules\n",
    "from ow_ustx import *\n",
    "import json\n",
    "import time\n",
    "from pyfus.io.ustx import PulseProfile, DelayProfile, TxModule, TxArray, Tx7332Registers, print_regs\n",
    "from pyfus.xdc import Transducer, Element\n",
    "import numpy as np\n",
    "import sys\n",
    "from ow_ustx import *\n",
    "import json\n",
    "import time"
   ]
  },
  {
   "cell_type": "code",
   "execution_count": 2,
   "metadata": {},
   "outputs": [
    {
     "name": "stderr",
     "output_type": "stream",
     "text": [
      "INFO:UART:Connecting to COM port at COM18 speed 921600\n"
     ]
    },
    {
     "name": "stdout",
     "output_type": "stream",
     "text": [
      "Device found: COM18 - USB Serial Device (COM18)\n",
      "Device found at port:  COM18\n"
     ]
    }
   ],
   "source": [
    "vid = 1155  # Example VID for demonstration\n",
    "pid = 22446  # Example PID for demonstration\n",
    " \n",
    "com_port = list_vcp_with_vid_pid(vid, pid)\n",
    "serial_obj = None\n",
    "if com_port is None:\n",
    "    print(\"No device found\")\n",
    "else:\n",
    "    print(\"Device found at port: \", com_port)\n",
    "    # Select communication port\n",
    "    serial_obj = UART(com_port, timeout=5)\n"
   ]
  },
  {
   "cell_type": "code",
   "execution_count": 3,
   "metadata": {},
   "outputs": [],
   "source": [
    "# Initialize the USTx controller object\n",
    "ustx_ctrl = CTRL_IF(serial_obj)"
   ]
  },
  {
   "cell_type": "code",
   "execution_count": 4,
   "metadata": {},
   "outputs": [
    {
     "name": "stdout",
     "output_type": "stream",
     "text": [
      "Enumerate I2C Devices\n",
      "Enumerate TX7332 Chips on AFE devices\n",
      "Enumerate TX7332 Chips on AFE device\n",
      "Status Packet:\n",
      "  ID: 2\n",
      "  Command: 0x31\n",
      "  Status: 0x0\n",
      "  Reserved: 0x2\n",
      "  Data Length: 8\n",
      "  CRC: 0x3867\n",
      "Enumerate TX7332 Chips on AFE device\n",
      "Status Packet:\n",
      "  ID: 3\n",
      "  Command: 0x31\n",
      "  Status: 0x0\n",
      "  Reserved: 0x2\n",
      "  Data Length: 8\n",
      "  CRC: 0x7dc7\n"
     ]
    }
   ],
   "source": [
    "# enumerate devices\n",
    "print(\"Enumerate I2C Devices\")\n",
    "ustx_ctrl.enum_i2c_devices()\n",
    "print(\"Enumerate TX7332 Chips on AFE devices\")\n",
    "for afe_device in ustx_ctrl.afe_devices:\n",
    "    print(\"Enumerate TX7332 Chips on AFE device\")\n",
    "    rUartPacket = afe_device.enum_tx7332_devices()"
   ]
  },
  {
   "cell_type": "code",
   "execution_count": 17,
   "metadata": {},
   "outputs": [
    {
     "name": "stderr",
     "output_type": "stream",
     "text": [
      "INFO:root:Initializing transducer array\n"
     ]
    },
    {
     "name": "stdout",
     "output_type": "stream",
     "text": [
      "I2C: 0x38\n",
      "MODULE 0\n",
      "0x0:x00000000\n",
      "0x1:x00000000\n",
      "0x6:x00000000\n",
      "0xB:x00000000\n",
      "0xC:x00000000\n",
      "0xF:x00000000\n",
      "0x14:x00000000\n",
      "0x15:x00000000\n",
      "0x16:x00000000\n",
      "0x18:x02000003\n",
      "0x19:x00000744\n",
      "0x1A:x00000000\n",
      "0x1B:x00000000\n",
      "0x1E:x00000000\n",
      "0x1F:x00000000\n",
      "0x20[+0]:x008B008F\n",
      "0x20[+1]:x006C0068\n",
      "0x20[+2]:x00940092\n",
      "0x20[+3]:x00960096\n",
      "0x20[+4]:x0071006F\n",
      "0x20[+5]:x00730073\n",
      "0x20[+6]:x0071006F\n",
      "0x20[+7]:x00730073\n",
      "0x20[+8]:x00940092\n",
      "0x20[+9]:x00960096\n",
      "0x20[+10]:x008B008F\n",
      "0x20[+11]:x00A400A0\n",
      "0x20[+12]:x0068006C\n",
      "0x20[+13]:x003C0038\n",
      "0x20[+14]:x00420043\n",
      "0x20[+15]:x003F0041\n",
      "0x120[+0]:xF1D092F2\n",
      "0x120[+1]:x0007D091\n",
      "MODULE 1\n",
      "0x0:x00000000\n",
      "0x1:x00000000\n",
      "0x6:x00000000\n",
      "0xB:x00000000\n",
      "0xC:x00000000\n",
      "0xF:x00000000\n",
      "0x14:x00000000\n",
      "0x15:x00000000\n",
      "0x16:x00000000\n",
      "0x18:x02000003\n",
      "0x19:x00000744\n",
      "0x1A:x00000000\n",
      "0x1B:x00000000\n",
      "0x1E:x00000000\n",
      "0x1F:x00000000\n",
      "0x20[+0]:x00AB00AC\n",
      "0x20[+1]:x00A700A9\n",
      "0x20[+2]:x00AB00AC\n",
      "0x20[+3]:x00A700A9\n",
      "0x20[+4]:x00420043\n",
      "0x20[+5]:x003F0041\n",
      "0x20[+6]:x00000002\n",
      "0x20[+7]:x003C0038\n",
      "0x20[+8]:x00A800AB\n",
      "0x20[+9]:x00A400A0\n",
      "0x20[+10]:x00B100AE\n",
      "0x20[+11]:x00B300B2\n",
      "0x20[+12]:x00060004\n",
      "0x20[+13]:x00070007\n",
      "0x20[+14]:x00020000\n",
      "0x20[+15]:x00060004\n",
      "0x120[+0]:xF1D092F2\n",
      "0x120[+1]:x0007D091\n",
      "\n",
      "I2C: 0x42\n",
      "MODULE 0\n",
      "0x0:x00000000\n",
      "0x1:x00000000\n",
      "0x6:x00000000\n",
      "0xB:x00000000\n",
      "0xC:x00000000\n",
      "0xF:x00000000\n",
      "0x14:x00000000\n",
      "0x15:x00000000\n",
      "0x16:x00000000\n",
      "0x18:x02000003\n",
      "0x19:x00000744\n",
      "0x1A:x00000000\n",
      "0x1B:x00000000\n",
      "0x1E:x00000000\n",
      "0x1F:x00000000\n",
      "0x20[+0]:x00040006\n",
      "0x20[+1]:x00000002\n",
      "0x20[+2]:x00070007\n",
      "0x20[+3]:x00040006\n",
      "0x20[+4]:x00B200B3\n",
      "0x20[+5]:x00AE00B1\n",
      "0x20[+6]:x00A000A4\n",
      "0x20[+7]:x00AB00A8\n",
      "0x20[+8]:x0038003C\n",
      "0x20[+9]:x00020000\n",
      "0x20[+10]:x0041003F\n",
      "0x20[+11]:x00430042\n",
      "0x20[+12]:x00A900A7\n",
      "0x20[+13]:x00AC00AB\n",
      "0x20[+14]:x00A900A7\n",
      "0x20[+15]:x00AC00AB\n",
      "0x120[+0]:xF1D092F2\n",
      "0x120[+1]:x0007D091\n",
      "MODULE 1\n",
      "0x0:x00000000\n",
      "0x1:x00000000\n",
      "0x6:x00000000\n",
      "0xB:x00000000\n",
      "0xC:x00000000\n",
      "0xF:x00000000\n",
      "0x14:x00000000\n",
      "0x15:x00000000\n",
      "0x16:x00000000\n",
      "0x18:x02000003\n",
      "0x19:x00000744\n",
      "0x1A:x00000000\n",
      "0x1B:x00000000\n",
      "0x1E:x00000000\n",
      "0x1F:x00000000\n",
      "0x20[+0]:x0041003F\n",
      "0x20[+1]:x00430042\n",
      "0x20[+2]:x0038003C\n",
      "0x20[+3]:x006C0068\n",
      "0x20[+4]:x00A000A4\n",
      "0x20[+5]:x008F008B\n",
      "0x20[+6]:x00960096\n",
      "0x20[+7]:x00920094\n",
      "0x20[+8]:x00730073\n",
      "0x20[+9]:x006F0071\n",
      "0x20[+10]:x00730073\n",
      "0x20[+11]:x006F0071\n",
      "0x20[+12]:x00960096\n",
      "0x20[+13]:x00920094\n",
      "0x20[+14]:x0068006C\n",
      "0x20[+15]:x008F008B\n",
      "0x120[+0]:xF1D092F2\n",
      "0x120[+1]:x0007D091\n",
      "\n"
     ]
    }
   ],
   "source": [
    "# Set the focus and pulse profile\n",
    "focus = np.array([0, 0, 50]) #set focus #left, front, down \n",
    "pulse_profile = PulseProfile(profile=1, frequency=400e3, cycles=3)\n",
    "afe_dict = {afe.i2c_addr:afe for afe in ustx_ctrl.afe_devices}\n",
    "# Load Mapping file\n",
    "arr = Transducer.from_file(R\"M2.json\")\n",
    "arr.elements = np.array(arr.elements)[np.argsort([el.pin for el in arr.elements])].tolist()\n",
    "distances = np.sqrt(np.sum((focus - arr.get_positions(units=\"mm\"))**2, 1))\n",
    "tof = distances*1e-3 / 1500\n",
    "delays = tof.max() - tof \n",
    "txa = TxArray(i2c_addresses=list(afe_dict.keys()))\n",
    "array_delay_profile = DelayProfile(1, delays.tolist())\n",
    "txa.add_delay_profile(array_delay_profile)\n",
    "txa.add_pulse_profile(pulse_profile)\n",
    "regs = txa.get_registers(profiles=\"configured\", pack=True) \n",
    "for addr, rm in regs.items():\n",
    "    print(f'I2C: 0x{addr:02x}')\n",
    "    for i, r in enumerate(rm):\n",
    "        print(f'MODULE {i}')\n",
    "        print_regs(r)\n",
    "    print('')  #calculate register state for 7332s, settings for board (bits, purpose), #change focus!!"
   ]
  },
  {
   "cell_type": "code",
   "execution_count": 18,
   "metadata": {},
   "outputs": [
    {
     "name": "stdout",
     "output_type": "stream",
     "text": [
      "0x38[0] Writing value 0x0 to register 0x0\n",
      "0x38[0] Writing value 0x0 to register 0x1\n",
      "0x38[0] Writing value 0x0 to register 0x6\n",
      "0x38[0] Writing value 0x0 to register 0xB\n",
      "0x38[0] Writing value 0x0 to register 0xC\n",
      "0x38[0] Writing value 0x0 to register 0xF\n",
      "0x38[0] Writing value 0x0 to register 0x14\n",
      "0x38[0] Writing value 0x0 to register 0x15\n",
      "0x38[0] Writing value 0x0 to register 0x16\n",
      "0x38[0] Writing value 0x2000003 to register 0x18\n",
      "0x38[0] Writing value 0x744 to register 0x19\n",
      "0x38[0] Writing value 0x0 to register 0x1F\n",
      "0x38[0] Writing value 0x0 to register 0x1E\n",
      "0x38[0] Writing value 0x0 to register 0x1A\n",
      "0x38[0] Writing value 0x0 to register 0x1B\n",
      "0x38[0] Writing 16-value block starting at register 0x20\n",
      "0x38[0] Writing 2-value block starting at register 0x120\n",
      "0x38[1] Writing value 0x0 to register 0x0\n",
      "0x38[1] Writing value 0x0 to register 0x1\n",
      "0x38[1] Writing value 0x0 to register 0x6\n",
      "0x38[1] Writing value 0x0 to register 0xB\n",
      "0x38[1] Writing value 0x0 to register 0xC\n",
      "0x38[1] Writing value 0x0 to register 0xF\n",
      "0x38[1] Writing value 0x0 to register 0x14\n",
      "0x38[1] Writing value 0x0 to register 0x15\n",
      "0x38[1] Writing value 0x0 to register 0x16\n",
      "0x38[1] Writing value 0x2000003 to register 0x18\n",
      "0x38[1] Writing value 0x744 to register 0x19\n",
      "0x38[1] Writing value 0x0 to register 0x1F\n",
      "0x38[1] Writing value 0x0 to register 0x1E\n",
      "0x38[1] Writing value 0x0 to register 0x1A\n",
      "0x38[1] Writing value 0x0 to register 0x1B\n",
      "0x38[1] Writing 16-value block starting at register 0x20\n",
      "0x38[1] Writing 2-value block starting at register 0x120\n",
      "0x42[0] Writing value 0x0 to register 0x0\n",
      "0x42[0] Writing value 0x0 to register 0x1\n",
      "0x42[0] Writing value 0x0 to register 0x6\n",
      "0x42[0] Writing value 0x0 to register 0xB\n",
      "0x42[0] Writing value 0x0 to register 0xC\n",
      "0x42[0] Writing value 0x0 to register 0xF\n",
      "0x42[0] Writing value 0x0 to register 0x14\n",
      "0x42[0] Writing value 0x0 to register 0x15\n",
      "0x42[0] Writing value 0x0 to register 0x16\n",
      "0x42[0] Writing value 0x2000003 to register 0x18\n",
      "0x42[0] Writing value 0x744 to register 0x19\n",
      "0x42[0] Writing value 0x0 to register 0x1F\n",
      "0x42[0] Writing value 0x0 to register 0x1E\n",
      "0x42[0] Writing value 0x0 to register 0x1A\n",
      "0x42[0] Writing value 0x0 to register 0x1B\n",
      "0x42[0] Writing 16-value block starting at register 0x20\n",
      "0x42[0] Writing 2-value block starting at register 0x120\n",
      "0x42[1] Writing value 0x0 to register 0x0\n",
      "0x42[1] Writing value 0x0 to register 0x1\n",
      "0x42[1] Writing value 0x0 to register 0x6\n",
      "0x42[1] Writing value 0x0 to register 0xB\n",
      "0x42[1] Writing value 0x0 to register 0xC\n",
      "0x42[1] Writing value 0x0 to register 0xF\n",
      "0x42[1] Writing value 0x0 to register 0x14\n",
      "0x42[1] Writing value 0x0 to register 0x15\n",
      "0x42[1] Writing value 0x0 to register 0x16\n",
      "0x42[1] Writing value 0x2000003 to register 0x18\n",
      "0x42[1] Writing value 0x744 to register 0x19\n",
      "0x42[1] Writing value 0x0 to register 0x1F\n",
      "0x42[1] Writing value 0x0 to register 0x1E\n",
      "0x42[1] Writing value 0x0 to register 0x1A\n",
      "0x42[1] Writing value 0x0 to register 0x1B\n",
      "0x42[1] Writing 16-value block starting at register 0x20\n",
      "0x42[1] Writing 2-value block starting at register 0x120\n"
     ]
    }
   ],
   "source": [
    "# Write Registers to Device #series of loops for programming tx chips \n",
    "for i2c_addr, module_regs in regs.items():\n",
    "    afe = afe_dict[i2c_addr] \n",
    "    for i in range(len(module_regs)):\n",
    "        device = afe.tx_devices[i]\n",
    "        r = module_regs[i]\n",
    "        device.write_register(0,1) #resetting the device\n",
    "        for address, value in r.items():\n",
    "            if isinstance(value, list):\n",
    "                print(f\"0x{i2c_addr:x}[{i}] Writing {len(value)}-value block starting at register 0x{address:X}\")\n",
    "                device.write_block(address, value)\n",
    "            else:\n",
    "                print(f\"0x{i2c_addr:x}[{i}] Writing value 0x{value:X} to register 0x{address:X}\")\n",
    "                device.write_register(address, value)\n",
    "            time.sleep(0.1)"
   ]
  },
  {
   "cell_type": "code",
   "execution_count": 12,
   "metadata": {},
   "outputs": [
    {
     "name": "stdout",
     "output_type": "stream",
     "text": [
      "{\n",
      "    \"TriggerFrequencyHz\": 0,\n",
      "    \"TriggerMode\": \"UNKNOWN\",\n",
      "    \"TriggerPulseCount\": 0,\n",
      "    \"TriggerPulseWidthUsec\": 0,\n",
      "    \"TriggerStatus\": \"NOT CONFIGURED\"\n",
      "}\n"
     ]
    }
   ],
   "source": [
    "# get trigger configuration\n",
    "trigger_config = ustx_ctrl.get_trigger()\n",
    "print(json.dumps(trigger_config, indent=4))\n"
   ]
  },
  {
   "cell_type": "code",
   "execution_count": 11,
   "metadata": {},
   "outputs": [],
   "source": [
    "# set trigger configuration\n",
    "trigger_config = {\n",
    "    \"TriggerFrequencyHz\": 50,\n",
    "    \"TriggerMode\": 1,\n",
    "    \"TriggerPulseCount\": 0,\n",
    "    \"TriggerPulseWidthUsec\": 250\n",
    "}\n",
    "r = ustx_ctrl.set_trigger(data=trigger_config)\n",
    "format_and_print_hex(r)"
   ]
  },
  {
   "cell_type": "code",
   "execution_count": 13,
   "metadata": {},
   "outputs": [
    {
     "name": "stdout",
     "output_type": "stream",
     "text": [
      "Turn Trigger On\n"
     ]
    }
   ],
   "source": [
    "# start trigger pulse\n",
    "print(\"Turn Trigger On\")\n",
    "ustx_ctrl.start_trigger()"
   ]
  },
  {
   "cell_type": "code",
   "execution_count": 14,
   "metadata": {},
   "outputs": [
    {
     "name": "stdout",
     "output_type": "stream",
     "text": [
      "Turn Trigger Off\n"
     ]
    }
   ],
   "source": [
    "# stop trigger pulse\n",
    "print(\"Turn Trigger Off\")\n",
    "ustx_ctrl.stop_trigger()"
   ]
  },
  {
   "cell_type": "code",
   "execution_count": 21,
   "metadata": {},
   "outputs": [],
   "source": [
    "# close teh communication port\n",
    "ustx_ctrl.uart.close()"
   ]
  }
 ],
 "metadata": {
  "kernelspec": {
   "display_name": "pyfus",
   "language": "python",
   "name": "python3"
  },
  "language_info": {
   "codemirror_mode": {
    "name": "ipython",
    "version": 3
   },
   "file_extension": ".py",
   "mimetype": "text/x-python",
   "name": "python",
   "nbconvert_exporter": "python",
   "pygments_lexer": "ipython3",
   "version": "3.10.14"
  }
 },
 "nbformat": 4,
 "nbformat_minor": 2
}
